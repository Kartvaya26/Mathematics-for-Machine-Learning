{
  "nbformat": 4,
  "nbformat_minor": 0,
  "metadata": {
    "colab": {
      "provenance": []
    },
    "kernelspec": {
      "name": "python3",
      "display_name": "Python 3"
    },
    "language_info": {
      "name": "python"
    }
  },
  "cells": [
    {
      "cell_type": "code",
      "execution_count": 1,
      "metadata": {
        "id": "sZpTTEc2VpbU"
      },
      "outputs": [],
      "source": [
        "import numpy as np"
      ]
    },
    {
      "cell_type": "markdown",
      "source": [
        "Creating a Matrix using nimpy"
      ],
      "metadata": {
        "id": "krYF_JwZdope"
      }
    },
    {
      "cell_type": "code",
      "source": [
        "matrix_1 = np.array([[2,3],[6,7]])\n",
        "print(matrix_1)"
      ],
      "metadata": {
        "colab": {
          "base_uri": "https://localhost:8080/",
          "height": 0
        },
        "id": "O63hYXgldwol",
        "outputId": "241c4336-ad1f-4015-d9ba-2039f71a6822"
      },
      "execution_count": 2,
      "outputs": [
        {
          "output_type": "stream",
          "name": "stdout",
          "text": [
            "[[2 3]\n",
            " [6 7]]\n"
          ]
        }
      ]
    },
    {
      "cell_type": "code",
      "source": [
        "matrix_1.shape"
      ],
      "metadata": {
        "colab": {
          "base_uri": "https://localhost:8080/",
          "height": 0
        },
        "id": "b6lk97xsedw_",
        "outputId": "135b9875-8694-418d-d449-003181be9429"
      },
      "execution_count": 3,
      "outputs": [
        {
          "output_type": "execute_result",
          "data": {
            "text/plain": [
              "(2, 2)"
            ]
          },
          "metadata": {},
          "execution_count": 3
        }
      ]
    },
    {
      "cell_type": "code",
      "source": [
        "martrix_2 = np.array([[10,35,45],[50,64,80],[20,15,90]])\n",
        "print(martrix_2)"
      ],
      "metadata": {
        "colab": {
          "base_uri": "https://localhost:8080/",
          "height": 0
        },
        "id": "tvvhq3aNeuv9",
        "outputId": "890a51b7-2310-4d71-b758-0eeef48a671b"
      },
      "execution_count": 11,
      "outputs": [
        {
          "output_type": "stream",
          "name": "stdout",
          "text": [
            "[[10 35 45]\n",
            " [50 64 80]\n",
            " [20 15 90]]\n"
          ]
        }
      ]
    },
    {
      "cell_type": "code",
      "source": [
        "martrix_2.shape"
      ],
      "metadata": {
        "colab": {
          "base_uri": "https://localhost:8080/",
          "height": 0
        },
        "id": "OyWHVHb6fwAu",
        "outputId": "95883651-a932-44b7-b82c-a5ccbca6a116"
      },
      "execution_count": 12,
      "outputs": [
        {
          "output_type": "execute_result",
          "data": {
            "text/plain": [
              "(3, 3)"
            ]
          },
          "metadata": {},
          "execution_count": 12
        }
      ]
    },
    {
      "cell_type": "markdown",
      "source": [
        "Creating Matrices with Random Values"
      ],
      "metadata": {
        "id": "-GRmQKKphUge"
      }
    },
    {
      "cell_type": "code",
      "source": [
        "random_matrix = np.random.rand(3, 3)\n",
        "print(random_matrix)"
      ],
      "metadata": {
        "colab": {
          "base_uri": "https://localhost:8080/",
          "height": 0
        },
        "id": "T7ojJXF8huLq",
        "outputId": "9c316a7a-cd36-430a-ac7b-996d95d99410"
      },
      "execution_count": 14,
      "outputs": [
        {
          "output_type": "stream",
          "name": "stdout",
          "text": [
            "[[0.24557269 0.1482002  0.82083519]\n",
            " [0.64000492 0.11948127 0.80550589]\n",
            " [0.80912921 0.9752066  0.34207794]]\n"
          ]
        }
      ]
    },
    {
      "cell_type": "code",
      "source": [
        "# creating matrix with random integers\n",
        "random_integer_matrix = np.random.randint(100, size = (4,5))\n",
        "print(random_integer_matrix)"
      ],
      "metadata": {
        "colab": {
          "base_uri": "https://localhost:8080/"
        },
        "id": "1nsvALygiUdr",
        "outputId": "523e6661-7845-48dc-efc7-5042f95452f1"
      },
      "execution_count": 19,
      "outputs": [
        {
          "output_type": "stream",
          "name": "stdout",
          "text": [
            "[[57 62 17 84 79]\n",
            " [ 8 93 74 16 45]\n",
            " [92 47 26 90  3]\n",
            " [47 48 27 82 76]]\n"
          ]
        }
      ]
    },
    {
      "cell_type": "markdown",
      "source": [
        "Matrix with all the values as 1"
      ],
      "metadata": {
        "id": "WpwwFn-Djgxq"
      }
    },
    {
      "cell_type": "code",
      "source": [
        "matrix_3 = np.ones((10,10), dtype=int)\n",
        "print(matrix_3)"
      ],
      "metadata": {
        "colab": {
          "base_uri": "https://localhost:8080/"
        },
        "id": "Mbo_YLCBlO8f",
        "outputId": "84cfa930-3462-4bac-d213-54e3d372d4b6"
      },
      "execution_count": 22,
      "outputs": [
        {
          "output_type": "stream",
          "name": "stdout",
          "text": [
            "[[1 1 1 1 1 1 1 1 1 1]\n",
            " [1 1 1 1 1 1 1 1 1 1]\n",
            " [1 1 1 1 1 1 1 1 1 1]\n",
            " [1 1 1 1 1 1 1 1 1 1]\n",
            " [1 1 1 1 1 1 1 1 1 1]\n",
            " [1 1 1 1 1 1 1 1 1 1]\n",
            " [1 1 1 1 1 1 1 1 1 1]\n",
            " [1 1 1 1 1 1 1 1 1 1]\n",
            " [1 1 1 1 1 1 1 1 1 1]\n",
            " [1 1 1 1 1 1 1 1 1 1]]\n"
          ]
        }
      ]
    },
    {
      "cell_type": "markdown",
      "source": [
        "Null Matrix or zero Matrix"
      ],
      "metadata": {
        "id": "MbciRy2zlalU"
      }
    },
    {
      "cell_type": "code",
      "source": [
        "null_matrix = np.zeros((7,7))\n",
        "print(null_matrix)"
      ],
      "metadata": {
        "colab": {
          "base_uri": "https://localhost:8080/"
        },
        "id": "W_ISEsYVmUS5",
        "outputId": "eb3a2461-e371-4600-b07a-fe64fa5834ad"
      },
      "execution_count": 24,
      "outputs": [
        {
          "output_type": "stream",
          "name": "stdout",
          "text": [
            "[[0. 0. 0. 0. 0. 0. 0.]\n",
            " [0. 0. 0. 0. 0. 0. 0.]\n",
            " [0. 0. 0. 0. 0. 0. 0.]\n",
            " [0. 0. 0. 0. 0. 0. 0.]\n",
            " [0. 0. 0. 0. 0. 0. 0.]\n",
            " [0. 0. 0. 0. 0. 0. 0.]\n",
            " [0. 0. 0. 0. 0. 0. 0.]]\n"
          ]
        }
      ]
    },
    {
      "cell_type": "markdown",
      "source": [
        "Identity Matrix"
      ],
      "metadata": {
        "id": "KMZZQTqenEnQ"
      }
    },
    {
      "cell_type": "code",
      "source": [
        "identity_matrix = np.eye(3,3)\n",
        "print(identity_matrix)"
      ],
      "metadata": {
        "colab": {
          "base_uri": "https://localhost:8080/"
        },
        "id": "sSLHERgjnPoh",
        "outputId": "5f776395-2599-4f0a-b1b9-b44a5d8499a2"
      },
      "execution_count": 25,
      "outputs": [
        {
          "output_type": "stream",
          "name": "stdout",
          "text": [
            "[[1. 0. 0.]\n",
            " [0. 1. 0.]\n",
            " [0. 0. 1.]]\n"
          ]
        }
      ]
    },
    {
      "cell_type": "code",
      "source": [
        "identity_matrix = np.eye(5,5)\n",
        "print(identity_matrix)"
      ],
      "metadata": {
        "colab": {
          "base_uri": "https://localhost:8080/"
        },
        "id": "UOhdZ9rrnXFu",
        "outputId": "1fbb55f7-c78d-423f-96dd-f5c3d53a7476"
      },
      "execution_count": 26,
      "outputs": [
        {
          "output_type": "stream",
          "name": "stdout",
          "text": [
            "[[1. 0. 0. 0. 0.]\n",
            " [0. 1. 0. 0. 0.]\n",
            " [0. 0. 1. 0. 0.]\n",
            " [0. 0. 0. 1. 0.]\n",
            " [0. 0. 0. 0. 1.]]\n"
          ]
        }
      ]
    },
    {
      "cell_type": "markdown",
      "source": [
        "Transpose of a Matrix"
      ],
      "metadata": {
        "id": "kCL84or_nkhC"
      }
    },
    {
      "cell_type": "code",
      "source": [
        "a = np.random.randint(100, size = (4,5))\n",
        "print(a)"
      ],
      "metadata": {
        "colab": {
          "base_uri": "https://localhost:8080/"
        },
        "id": "Mo9DCmLZp0sC",
        "outputId": "d401c0ec-7710-49bc-cedb-628618c16693"
      },
      "execution_count": 27,
      "outputs": [
        {
          "output_type": "stream",
          "name": "stdout",
          "text": [
            "[[39 72 84 48 78]\n",
            " [53 16 97  8 58]\n",
            " [ 2 42 29 86 27]\n",
            " [38 81 95 85 32]]\n"
          ]
        }
      ]
    },
    {
      "cell_type": "code",
      "source": [
        "transpose_of_a = np.transpose(a)\n",
        "print(transpose_of_a)"
      ],
      "metadata": {
        "colab": {
          "base_uri": "https://localhost:8080/"
        },
        "id": "phBzR17zqGOD",
        "outputId": "80ba1636-7aaa-49af-d499-dcb7bad74102"
      },
      "execution_count": 28,
      "outputs": [
        {
          "output_type": "stream",
          "name": "stdout",
          "text": [
            "[[39 53  2 38]\n",
            " [72 16 42 81]\n",
            " [84 97 29 95]\n",
            " [48  8 86 85]\n",
            " [78 58 27 32]]\n"
          ]
        }
      ]
    },
    {
      "cell_type": "code",
      "source": [],
      "metadata": {
        "id": "iXf_Yuhhsiyb"
      },
      "execution_count": null,
      "outputs": []
    }
  ]
}